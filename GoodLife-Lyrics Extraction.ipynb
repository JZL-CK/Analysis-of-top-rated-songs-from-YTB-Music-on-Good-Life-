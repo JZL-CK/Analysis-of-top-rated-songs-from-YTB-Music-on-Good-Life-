{
 "cells": [
  {
   "cell_type": "code",
   "execution_count": 1,
   "id": "a6e02d23",
   "metadata": {},
   "outputs": [
    {
     "name": "stdout",
     "output_type": "stream",
     "text": [
      "Requirement already satisfied: lyricsgenius in c:\\users\\jzl\\anaconda3\\lib\\site-packages (3.0.1)\n",
      "Requirement already satisfied: beautifulsoup4>=4.6.0 in c:\\users\\jzl\\anaconda3\\lib\\site-packages (from lyricsgenius) (4.12.2)\n",
      "Requirement already satisfied: requests>=2.20.0 in c:\\users\\jzl\\anaconda3\\lib\\site-packages (from lyricsgenius) (2.31.0)\n",
      "Requirement already satisfied: soupsieve>1.2 in c:\\users\\jzl\\anaconda3\\lib\\site-packages (from beautifulsoup4>=4.6.0->lyricsgenius) (2.5)\n",
      "Requirement already satisfied: charset-normalizer<4,>=2 in c:\\users\\jzl\\anaconda3\\lib\\site-packages (from requests>=2.20.0->lyricsgenius) (2.0.4)\n",
      "Requirement already satisfied: idna<4,>=2.5 in c:\\users\\jzl\\anaconda3\\lib\\site-packages (from requests>=2.20.0->lyricsgenius) (3.4)\n",
      "Requirement already satisfied: urllib3<3,>=1.21.1 in c:\\users\\jzl\\anaconda3\\lib\\site-packages (from requests>=2.20.0->lyricsgenius) (2.0.7)\n",
      "Requirement already satisfied: certifi>=2017.4.17 in c:\\users\\jzl\\anaconda3\\lib\\site-packages (from requests>=2.20.0->lyricsgenius) (2024.2.2)\n"
     ]
    }
   ],
   "source": [
    "!pip install lyricsgenius python-docx"
   ]
  },
  {
   "cell_type": "code",
   "execution_count": 13,
   "id": "b0ea35c5",
   "metadata": {},
   "outputs": [
    {
     "name": "stderr",
     "output_type": "stream",
     "text": [
      "C:\\Users\\JZL\\AppData\\Local\\Temp\\ipykernel_23268\\3065048448.py:19: FutureWarning: Series.__getitem__ treating keys as positions is deprecated. In a future version, integer keys will always be treated as labels (consistent with DataFrame behavior). To access a value by position, use `ser.iloc[pos]`\n",
      "  song_name = row[0]\n",
      "C:\\Users\\JZL\\AppData\\Local\\Temp\\ipykernel_23268\\3065048448.py:20: FutureWarning: Series.__getitem__ treating keys as positions is deprecated. In a future version, integer keys will always be treated as labels (consistent with DataFrame behavior). To access a value by position, use `ser.iloc[pos]`\n",
      "  artist_name = row[1]\n"
     ]
    },
    {
     "name": "stdout",
     "output_type": "stream",
     "text": [
      "Searching for \"Good Life\" by OneRepublic...\n",
      "Done.\n",
      "Lyrics for 'Good Life' by OneRepublic saved to 'Good Life - OneRepublic.docx'.\n"
     ]
    },
    {
     "data": {
      "text/html": [
       "<a href='Good Life - OneRepublic.docx' target='_blank'>Good Life - OneRepublic.docx</a><br>"
      ],
      "text/plain": [
       "C:\\Users\\JZL\\Jupyter Projects\\Good Life - OneRepublic.docx"
      ]
     },
     "metadata": {},
     "output_type": "display_data"
    },
    {
     "name": "stdout",
     "output_type": "stream",
     "text": [
      "Searching for \"Good Life\" by G-Eazy...\n",
      "Done.\n",
      "Lyrics for 'Good Life' by G-Eazy saved to 'Good Life - G-Eazy.docx'.\n"
     ]
    },
    {
     "data": {
      "text/html": [
       "<a href='Good Life - G-Eazy.docx' target='_blank'>Good Life - G-Eazy.docx</a><br>"
      ],
      "text/plain": [
       "C:\\Users\\JZL\\Jupyter Projects\\Good Life - G-Eazy.docx"
      ]
     },
     "metadata": {},
     "output_type": "display_data"
    },
    {
     "name": "stdout",
     "output_type": "stream",
     "text": [
      "Searching for \"Life's Been Good\" by Joe Walsh...\n",
      "Done.\n",
      "Lyrics for 'Life's Been Good' by Joe Walsh saved to 'Life's Been Good - Joe Walsh.docx'.\n"
     ]
    },
    {
     "data": {
      "text/html": [
       "<a href='Life&#x27;s Been Good - Joe Walsh.docx' target='_blank'>Life's Been Good - Joe Walsh.docx</a><br>"
      ],
      "text/plain": [
       "C:\\Users\\JZL\\Jupyter Projects\\Life's Been Good - Joe Walsh.docx"
      ]
     },
     "metadata": {},
     "output_type": "display_data"
    },
    {
     "name": "stdout",
     "output_type": "stream",
     "text": [
      "Searching for \"The Good Life\" by Three Days Grace...\n",
      "Done.\n",
      "Lyrics for 'The Good Life' by Three Days Grace saved to 'The Good Life - Three Days Grace.docx'.\n"
     ]
    },
    {
     "data": {
      "text/html": [
       "<a href='The Good Life - Three Days Grace.docx' target='_blank'>The Good Life - Three Days Grace.docx</a><br>"
      ],
      "text/plain": [
       "C:\\Users\\JZL\\Jupyter Projects\\The Good Life - Three Days Grace.docx"
      ]
     },
     "metadata": {},
     "output_type": "display_data"
    },
    {
     "name": "stdout",
     "output_type": "stream",
     "text": [
      "Searching for \"Good Life\" by BEAT SINGH...\n",
      "Done.\n",
      "Lyrics for 'Good Life' by BEAT SINGH saved to 'Good Life - BEAT SINGH.docx'.\n"
     ]
    },
    {
     "data": {
      "text/html": [
       "<a href='Good Life - BEAT SINGH.docx' target='_blank'>Good Life - BEAT SINGH.docx</a><br>"
      ],
      "text/plain": [
       "C:\\Users\\JZL\\Jupyter Projects\\Good Life - BEAT SINGH.docx"
      ]
     },
     "metadata": {},
     "output_type": "display_data"
    },
    {
     "name": "stdout",
     "output_type": "stream",
     "text": [
      "Searching for \"Life Is Good\" by Future...\n",
      "Done.\n",
      "Lyrics for 'Life Is Good' by Future saved to 'Life Is Good - Future.docx'.\n"
     ]
    },
    {
     "data": {
      "text/html": [
       "<a href='Life Is Good - Future.docx' target='_blank'>Life Is Good - Future.docx</a><br>"
      ],
      "text/plain": [
       "C:\\Users\\JZL\\Jupyter Projects\\Life Is Good - Future.docx"
      ]
     },
     "metadata": {},
     "output_type": "display_data"
    },
    {
     "name": "stdout",
     "output_type": "stream",
     "text": [
      "Searching for \"Good Life\" by Kanye West...\n",
      "Done.\n",
      "Lyrics for 'Good Life' by Kanye West saved to 'Good Life - Kanye West.docx'.\n"
     ]
    },
    {
     "data": {
      "text/html": [
       "<a href='Good Life - Kanye West.docx' target='_blank'>Good Life - Kanye West.docx</a><br>"
      ],
      "text/plain": [
       "C:\\Users\\JZL\\Jupyter Projects\\Good Life - Kanye West.docx"
      ]
     },
     "metadata": {},
     "output_type": "display_data"
    },
    {
     "name": "stdout",
     "output_type": "stream",
     "text": [
      "Searching for \"Good Life\" by Lisi...\n",
      "Done.\n",
      "Lyrics for 'Good Life' by Lisi saved to 'Good Life - Lisi.docx'.\n"
     ]
    },
    {
     "data": {
      "text/html": [
       "<a href='Good Life - Lisi.docx' target='_blank'>Good Life - Lisi.docx</a><br>"
      ],
      "text/plain": [
       "C:\\Users\\JZL\\Jupyter Projects\\Good Life - Lisi.docx"
      ]
     },
     "metadata": {},
     "output_type": "display_data"
    },
    {
     "name": "stdout",
     "output_type": "stream",
     "text": [
      "Searching for \"Good Life\" by 2Pac...\n",
      "Done.\n",
      "Lyrics for 'Good Life' by 2Pac saved to 'Good Life - 2Pac.docx'.\n"
     ]
    },
    {
     "data": {
      "text/html": [
       "<a href='Good Life - 2Pac.docx' target='_blank'>Good Life - 2Pac.docx</a><br>"
      ],
      "text/plain": [
       "C:\\Users\\JZL\\Jupyter Projects\\Good Life - 2Pac.docx"
      ]
     },
     "metadata": {},
     "output_type": "display_data"
    },
    {
     "name": "stdout",
     "output_type": "stream",
     "text": [
      "Searching for \"Good Life (From \"The Garfield Movie\")\" by Jon Batiste...\n",
      "Done.\n",
      "Lyrics for 'Good Life (From \"The Garfield Movie\")' by Jon Batiste saved to 'Good Life (From The Garfield Movie) - Jon Batiste.docx'.\n"
     ]
    },
    {
     "data": {
      "text/html": [
       "<a href='Good Life (From The Garfield Movie) - Jon Batiste.docx' target='_blank'>Good Life (From The Garfield Movie) - Jon Batiste.docx</a><br>"
      ],
      "text/plain": [
       "C:\\Users\\JZL\\Jupyter Projects\\Good Life (From The Garfield Movie) - Jon Batiste.docx"
      ]
     },
     "metadata": {},
     "output_type": "display_data"
    },
    {
     "name": "stdout",
     "output_type": "stream",
     "text": [
      "Searching for \"Good Life\" by OneRepublic...\n",
      "Done.\n",
      "Lyrics for 'Good Life' by OneRepublic saved to 'Good Life - OneRepublic.docx'.\n"
     ]
    },
    {
     "data": {
      "text/html": [
       "<a href='Good Life - OneRepublic.docx' target='_blank'>Good Life - OneRepublic.docx</a><br>"
      ],
      "text/plain": [
       "C:\\Users\\JZL\\Jupyter Projects\\Good Life - OneRepublic.docx"
      ]
     },
     "metadata": {},
     "output_type": "display_data"
    },
    {
     "name": "stdout",
     "output_type": "stream",
     "text": [
      "Searching for \"Life is good\" by Emiway Bantai...\n",
      "Done.\n",
      "Lyrics for 'Life is good' by Emiway Bantai saved to 'Life is good - Emiway Bantai.docx'.\n"
     ]
    },
    {
     "data": {
      "text/html": [
       "<a href='Life is good - Emiway Bantai.docx' target='_blank'>Life is good - Emiway Bantai.docx</a><br>"
      ],
      "text/plain": [
       "C:\\Users\\JZL\\Jupyter Projects\\Life is good - Emiway Bantai.docx"
      ]
     },
     "metadata": {},
     "output_type": "display_data"
    },
    {
     "name": "stdout",
     "output_type": "stream",
     "text": [
      "Searching for \"Good Life\" by Inner City...\n",
      "Done.\n",
      "Lyrics for 'Good Life' by Inner City saved to 'Good Life - Inner City.docx'.\n"
     ]
    },
    {
     "data": {
      "text/html": [
       "<a href='Good Life - Inner City.docx' target='_blank'>Good Life - Inner City.docx</a><br>"
      ],
      "text/plain": [
       "C:\\Users\\JZL\\Jupyter Projects\\Good Life - Inner City.docx"
      ]
     },
     "metadata": {},
     "output_type": "display_data"
    },
    {
     "name": "stdout",
     "output_type": "stream",
     "text": [
      "Searching for \"Damn Good Life\" by Dalton Dover...\n",
      "Done.\n",
      "Lyrics for 'Damn Good Life' by Dalton Dover saved to 'Damn Good Life - Dalton Dover.docx'.\n"
     ]
    },
    {
     "data": {
      "text/html": [
       "<a href='Damn Good Life - Dalton Dover.docx' target='_blank'>Damn Good Life - Dalton Dover.docx</a><br>"
      ],
      "text/plain": [
       "C:\\Users\\JZL\\Jupyter Projects\\Damn Good Life - Dalton Dover.docx"
      ]
     },
     "metadata": {},
     "output_type": "display_data"
    },
    {
     "name": "stdout",
     "output_type": "stream",
     "text": [
      "Searching for \"GOOD LIFE GOOD THOUGHTS\" by Baggh-E SMG...\n",
      "No results found for: 'GOOD LIFE GOOD THOUGHTS Baggh-E SMG'\n",
      "Song 'GOOD LIFE GOOD THOUGHTS' by Baggh-E SMG not found.\n",
      "Searching for \"Good Life\" by Ryan Mack...\n",
      "Specified song does not contain lyrics. Rejecting.\n",
      "Song 'Good Life' by Ryan Mack not found.\n",
      "Searching for \"Feeling Good\" by Nina Simone...\n",
      "Done.\n",
      "Lyrics for 'Feeling Good' by Nina Simone saved to 'Feeling Good - Nina Simone.docx'.\n"
     ]
    },
    {
     "data": {
      "text/html": [
       "<a href='Feeling Good - Nina Simone.docx' target='_blank'>Feeling Good - Nina Simone.docx</a><br>"
      ],
      "text/plain": [
       "C:\\Users\\JZL\\Jupyter Projects\\Feeling Good - Nina Simone.docx"
      ]
     },
     "metadata": {},
     "output_type": "display_data"
    },
    {
     "name": "stdout",
     "output_type": "stream",
     "text": [
      "Searching for \"Good Life\" by Harris J...\n",
      "Done.\n",
      "Lyrics for 'Good Life' by Harris J saved to 'Good Life - Harris J.docx'.\n"
     ]
    },
    {
     "data": {
      "text/html": [
       "<a href='Good Life - Harris J.docx' target='_blank'>Good Life - Harris J.docx</a><br>"
      ],
      "text/plain": [
       "C:\\Users\\JZL\\Jupyter Projects\\Good Life - Harris J.docx"
      ]
     },
     "metadata": {},
     "output_type": "display_data"
    },
    {
     "name": "stdout",
     "output_type": "stream",
     "text": [
      "Searching for \"That Good Life\" by Big Tone...\n",
      "Done.\n",
      "Lyrics for 'That Good Life' by Big Tone saved to 'That Good Life - Big Tone.docx'.\n"
     ]
    },
    {
     "data": {
      "text/html": [
       "<a href='That Good Life - Big Tone.docx' target='_blank'>That Good Life - Big Tone.docx</a><br>"
      ],
      "text/plain": [
       "C:\\Users\\JZL\\Jupyter Projects\\That Good Life - Big Tone.docx"
      ]
     },
     "metadata": {},
     "output_type": "display_data"
    },
    {
     "name": "stdout",
     "output_type": "stream",
     "text": [
      "Searching for \"Good Life\" by Chela Rivas...\n",
      "Done.\n",
      "Lyrics for 'Good Life' by Chela Rivas saved to 'Good Life - Chela Rivas.docx'.\n"
     ]
    },
    {
     "data": {
      "text/html": [
       "<a href='Good Life - Chela Rivas.docx' target='_blank'>Good Life - Chela Rivas.docx</a><br>"
      ],
      "text/plain": [
       "C:\\Users\\JZL\\Jupyter Projects\\Good Life - Chela Rivas.docx"
      ]
     },
     "metadata": {},
     "output_type": "display_data"
    },
    {
     "name": "stdout",
     "output_type": "stream",
     "text": [
      "Searching for \"Good Life\" by Anthony B...\n",
      "Done.\n",
      "Lyrics for 'Good Life' by Anthony B saved to 'Good Life - Anthony B.docx'.\n"
     ]
    },
    {
     "data": {
      "text/html": [
       "<a href='Good Life - Anthony B.docx' target='_blank'>Good Life - Anthony B.docx</a><br>"
      ],
      "text/plain": [
       "C:\\Users\\JZL\\Jupyter Projects\\Good Life - Anthony B.docx"
      ]
     },
     "metadata": {},
     "output_type": "display_data"
    },
    {
     "name": "stdout",
     "output_type": "stream",
     "text": [
      "Searching for \"Good Life (Remix Maxi Version)\" by Ebony...\n",
      "No results found for: 'Good Life (Remix Maxi Version) Ebony'\n",
      "Song 'Good Life (Remix Maxi Version)' by Ebony not found.\n",
      "Searching for \"The Good Life\" by Tony Bennett...\n",
      "Done.\n",
      "Lyrics for 'The Good Life' by Tony Bennett saved to 'The Good Life - Tony Bennett.docx'.\n"
     ]
    },
    {
     "data": {
      "text/html": [
       "<a href='The Good Life - Tony Bennett.docx' target='_blank'>The Good Life - Tony Bennett.docx</a><br>"
      ],
      "text/plain": [
       "C:\\Users\\JZL\\Jupyter Projects\\The Good Life - Tony Bennett.docx"
      ]
     },
     "metadata": {},
     "output_type": "display_data"
    },
    {
     "name": "stdout",
     "output_type": "stream",
     "text": [
      "Searching for \"Good Life\" by Shota Shimizu...\n",
      "Done.\n",
      "Lyrics for 'Good Life' by Shota Shimizu saved to 'Good Life - Shota Shimizu.docx'.\n"
     ]
    },
    {
     "data": {
      "text/html": [
       "<a href='Good Life - Shota Shimizu.docx' target='_blank'>Good Life - Shota Shimizu.docx</a><br>"
      ],
      "text/plain": [
       "C:\\Users\\JZL\\Jupyter Projects\\Good Life - Shota Shimizu.docx"
      ]
     },
     "metadata": {},
     "output_type": "display_data"
    },
    {
     "name": "stdout",
     "output_type": "stream",
     "text": [
      "Searching for \"Good Life\" by Shota Shimizu...\n",
      "Done.\n",
      "Lyrics for 'Good Life' by Shota Shimizu saved to 'Good Life - Shota Shimizu.docx'.\n"
     ]
    },
    {
     "data": {
      "text/html": [
       "<a href='Good Life - Shota Shimizu.docx' target='_blank'>Good Life - Shota Shimizu.docx</a><br>"
      ],
      "text/plain": [
       "C:\\Users\\JZL\\Jupyter Projects\\Good Life - Shota Shimizu.docx"
      ]
     },
     "metadata": {},
     "output_type": "display_data"
    },
    {
     "name": "stdout",
     "output_type": "stream",
     "text": [
      "Searching for \"Good Life\" by Kappa Jotta...\n",
      "Done.\n",
      "Lyrics for 'Good Life' by Kappa Jotta saved to 'Good Life - Kappa Jotta.docx'.\n"
     ]
    },
    {
     "data": {
      "text/html": [
       "<a href='Good Life - Kappa Jotta.docx' target='_blank'>Good Life - Kappa Jotta.docx</a><br>"
      ],
      "text/plain": [
       "C:\\Users\\JZL\\Jupyter Projects\\Good Life - Kappa Jotta.docx"
      ]
     },
     "metadata": {},
     "output_type": "display_data"
    },
    {
     "name": "stdout",
     "output_type": "stream",
     "text": [
      "Searching for \"Good Life\" by Takana Zion...\n",
      "Done.\n",
      "Lyrics for 'Good Life' by Takana Zion saved to 'Good Life - Takana Zion.docx'.\n"
     ]
    },
    {
     "data": {
      "text/html": [
       "<a href='Good Life - Takana Zion.docx' target='_blank'>Good Life - Takana Zion.docx</a><br>"
      ],
      "text/plain": [
       "C:\\Users\\JZL\\Jupyter Projects\\Good Life - Takana Zion.docx"
      ]
     },
     "metadata": {},
     "output_type": "display_data"
    },
    {
     "name": "stdout",
     "output_type": "stream",
     "text": [
      "Searching for \"Good Life\" by ISLY...\n",
      "Done.\n",
      "Lyrics for 'Good Life' by ISLY saved to 'Good Life - ISLY.docx'.\n"
     ]
    },
    {
     "data": {
      "text/html": [
       "<a href='Good Life - ISLY.docx' target='_blank'>Good Life - ISLY.docx</a><br>"
      ],
      "text/plain": [
       "C:\\Users\\JZL\\Jupyter Projects\\Good Life - ISLY.docx"
      ]
     },
     "metadata": {},
     "output_type": "display_data"
    },
    {
     "name": "stdout",
     "output_type": "stream",
     "text": [
      "Searching for \"The Good Life\" by Kenny Rogers...\n",
      "Done.\n",
      "Lyrics for 'The Good Life' by Kenny Rogers saved to 'The Good Life - Kenny Rogers.docx'.\n"
     ]
    },
    {
     "data": {
      "text/html": [
       "<a href='The Good Life - Kenny Rogers.docx' target='_blank'>The Good Life - Kenny Rogers.docx</a><br>"
      ],
      "text/plain": [
       "C:\\Users\\JZL\\Jupyter Projects\\The Good Life - Kenny Rogers.docx"
      ]
     },
     "metadata": {},
     "output_type": "display_data"
    },
    {
     "name": "stdout",
     "output_type": "stream",
     "text": [
      "Searching for \"The Good Life\" by Amber Pacific...\n",
      "Done.\n",
      "Lyrics for 'The Good Life' by Amber Pacific saved to 'The Good Life - Amber Pacific.docx'.\n"
     ]
    },
    {
     "data": {
      "text/html": [
       "<a href='The Good Life - Amber Pacific.docx' target='_blank'>The Good Life - Amber Pacific.docx</a><br>"
      ],
      "text/plain": [
       "C:\\Users\\JZL\\Jupyter Projects\\The Good Life - Amber Pacific.docx"
      ]
     },
     "metadata": {},
     "output_type": "display_data"
    },
    {
     "name": "stdout",
     "output_type": "stream",
     "text": [
      "Searching for \"Good Life\" by clement...\n",
      "Specified song does not contain lyrics. Rejecting.\n",
      "Song 'Good Life' by clement not found.\n",
      "Searching for \"GOOD LIFE\" by MIGHTY WARRIORS...\n",
      "Done.\n",
      "Lyrics for 'GOOD LIFE' by MIGHTY WARRIORS saved to 'GOOD LIFE - MIGHTY WARRIORS.docx'.\n"
     ]
    },
    {
     "data": {
      "text/html": [
       "<a href='GOOD LIFE - MIGHTY WARRIORS.docx' target='_blank'>GOOD LIFE - MIGHTY WARRIORS.docx</a><br>"
      ],
      "text/plain": [
       "C:\\Users\\JZL\\Jupyter Projects\\GOOD LIFE - MIGHTY WARRIORS.docx"
      ]
     },
     "metadata": {},
     "output_type": "display_data"
    },
    {
     "name": "stdout",
     "output_type": "stream",
     "text": [
      "Searching for \"Good Life\" by Sweet California...\n",
      "Done.\n",
      "Lyrics for 'Good Life' by Sweet California saved to 'Good Life - Sweet California.docx'.\n"
     ]
    },
    {
     "data": {
      "text/html": [
       "<a href='Good Life - Sweet California.docx' target='_blank'>Good Life - Sweet California.docx</a><br>"
      ],
      "text/plain": [
       "C:\\Users\\JZL\\Jupyter Projects\\Good Life - Sweet California.docx"
      ]
     },
     "metadata": {},
     "output_type": "display_data"
    },
    {
     "name": "stdout",
     "output_type": "stream",
     "text": [
      "Searching for \"Good Life\" by Good Life...\n",
      "Done.\n",
      "Lyrics for 'Good Life' by Good Life saved to 'Good Life - Good Life.docx'.\n"
     ]
    },
    {
     "data": {
      "text/html": [
       "<a href='Good Life - Good Life.docx' target='_blank'>Good Life - Good Life.docx</a><br>"
      ],
      "text/plain": [
       "C:\\Users\\JZL\\Jupyter Projects\\Good Life - Good Life.docx"
      ]
     },
     "metadata": {},
     "output_type": "display_data"
    },
    {
     "name": "stdout",
     "output_type": "stream",
     "text": [
      "Searching for \"The Good Life (Remastered)\" by Bobby Darin...\n",
      "Done.\n",
      "Lyrics for 'The Good Life (Remastered)' by Bobby Darin saved to 'The Good Life (Remastered) - Bobby Darin.docx'.\n"
     ]
    },
    {
     "data": {
      "text/html": [
       "<a href='The Good Life (Remastered) - Bobby Darin.docx' target='_blank'>The Good Life (Remastered) - Bobby Darin.docx</a><br>"
      ],
      "text/plain": [
       "C:\\Users\\JZL\\Jupyter Projects\\The Good Life (Remastered) - Bobby Darin.docx"
      ]
     },
     "metadata": {},
     "output_type": "display_data"
    },
    {
     "name": "stdout",
     "output_type": "stream",
     "text": [
      "Searching for \"The Good Life\" by Beegie Adair...\n",
      "Done.\n",
      "Lyrics for 'The Good Life' by Beegie Adair saved to 'The Good Life - Beegie Adair.docx'.\n"
     ]
    },
    {
     "data": {
      "text/html": [
       "<a href='The Good Life - Beegie Adair.docx' target='_blank'>The Good Life - Beegie Adair.docx</a><br>"
      ],
      "text/plain": [
       "C:\\Users\\JZL\\Jupyter Projects\\The Good Life - Beegie Adair.docx"
      ]
     },
     "metadata": {},
     "output_type": "display_data"
    },
    {
     "name": "stdout",
     "output_type": "stream",
     "text": [
      "Searching for \"Good Life\" by Burak Balkan...\n",
      "Done.\n",
      "Lyrics for 'Good Life' by Burak Balkan saved to 'Good Life - Burak Balkan.docx'.\n"
     ]
    },
    {
     "data": {
      "text/html": [
       "<a href='Good Life - Burak Balkan.docx' target='_blank'>Good Life - Burak Balkan.docx</a><br>"
      ],
      "text/plain": [
       "C:\\Users\\JZL\\Jupyter Projects\\Good Life - Burak Balkan.docx"
      ]
     },
     "metadata": {},
     "output_type": "display_data"
    },
    {
     "name": "stdout",
     "output_type": "stream",
     "text": [
      "Searching for \"Good Life (feat. Printz Board)\" by Kim Dotcom...\n",
      "Done.\n",
      "Lyrics for 'Good Life (feat. Printz Board)' by Kim Dotcom saved to 'Good Life (feat. Printz Board) - Kim Dotcom.docx'.\n"
     ]
    },
    {
     "data": {
      "text/html": [
       "<a href='Good Life (feat. Printz Board) - Kim Dotcom.docx' target='_blank'>Good Life (feat. Printz Board) - Kim Dotcom.docx</a><br>"
      ],
      "text/plain": [
       "C:\\Users\\JZL\\Jupyter Projects\\Good Life (feat. Printz Board) - Kim Dotcom.docx"
      ]
     },
     "metadata": {},
     "output_type": "display_data"
    },
    {
     "name": "stdout",
     "output_type": "stream",
     "text": [
      "Searching for \"Good Life\" by litmus*...\n",
      "Done.\n",
      "Lyrics for 'Good Life' by litmus* saved to 'Good Life - litmus.docx'.\n"
     ]
    },
    {
     "data": {
      "text/html": [
       "<a href='Good Life - litmus.docx' target='_blank'>Good Life - litmus.docx</a><br>"
      ],
      "text/plain": [
       "C:\\Users\\JZL\\Jupyter Projects\\Good Life - litmus.docx"
      ]
     },
     "metadata": {},
     "output_type": "display_data"
    },
    {
     "name": "stdout",
     "output_type": "stream",
     "text": [
      "Searching for \"Good Life\" by Barenaked Ladies...\n",
      "Done.\n",
      "Lyrics for 'Good Life' by Barenaked Ladies saved to 'Good Life - Barenaked Ladies.docx'.\n"
     ]
    },
    {
     "data": {
      "text/html": [
       "<a href='Good Life - Barenaked Ladies.docx' target='_blank'>Good Life - Barenaked Ladies.docx</a><br>"
      ],
      "text/plain": [
       "C:\\Users\\JZL\\Jupyter Projects\\Good Life - Barenaked Ladies.docx"
      ]
     },
     "metadata": {},
     "output_type": "display_data"
    },
    {
     "name": "stdout",
     "output_type": "stream",
     "text": [
      "Searching for \"It's A Good Life\" by Rea Garvey...\n",
      "Done.\n",
      "Lyrics for 'It's A Good Life' by Rea Garvey saved to 'It's A Good Life - Rea Garvey.docx'.\n"
     ]
    },
    {
     "data": {
      "text/html": [
       "<a href='It&#x27;s A Good Life - Rea Garvey.docx' target='_blank'>It's A Good Life - Rea Garvey.docx</a><br>"
      ],
      "text/plain": [
       "C:\\Users\\JZL\\Jupyter Projects\\It's A Good Life - Rea Garvey.docx"
      ]
     },
     "metadata": {},
     "output_type": "display_data"
    },
    {
     "name": "stdout",
     "output_type": "stream",
     "text": [
      "Searching for \"The Good Life\" by Devon Gilfillian...\n",
      "Done.\n",
      "Lyrics for 'The Good Life' by Devon Gilfillian saved to 'The Good Life - Devon Gilfillian.docx'.\n"
     ]
    },
    {
     "data": {
      "text/html": [
       "<a href='The Good Life - Devon Gilfillian.docx' target='_blank'>The Good Life - Devon Gilfillian.docx</a><br>"
      ],
      "text/plain": [
       "C:\\Users\\JZL\\Jupyter Projects\\The Good Life - Devon Gilfillian.docx"
      ]
     },
     "metadata": {},
     "output_type": "display_data"
    },
    {
     "name": "stdout",
     "output_type": "stream",
     "text": [
      "Searching for \"Good Life\" by The Young Escape...\n",
      "Done.\n",
      "Lyrics for 'Good Life' by The Young Escape saved to 'Good Life - The Young Escape.docx'.\n"
     ]
    },
    {
     "data": {
      "text/html": [
       "<a href='Good Life - The Young Escape.docx' target='_blank'>Good Life - The Young Escape.docx</a><br>"
      ],
      "text/plain": [
       "C:\\Users\\JZL\\Jupyter Projects\\Good Life - The Young Escape.docx"
      ]
     },
     "metadata": {},
     "output_type": "display_data"
    },
    {
     "name": "stdout",
     "output_type": "stream",
     "text": [
      "Searching for \"A Very Good Life\" by Lebanon Hanover...\n",
      "Done.\n",
      "Lyrics for 'A Very Good Life' by Lebanon Hanover saved to 'A Very Good Life - Lebanon Hanover.docx'.\n"
     ]
    },
    {
     "data": {
      "text/html": [
       "<a href='A Very Good Life - Lebanon Hanover.docx' target='_blank'>A Very Good Life - Lebanon Hanover.docx</a><br>"
      ],
      "text/plain": [
       "C:\\Users\\JZL\\Jupyter Projects\\A Very Good Life - Lebanon Hanover.docx"
      ]
     },
     "metadata": {},
     "output_type": "display_data"
    },
    {
     "name": "stdout",
     "output_type": "stream",
     "text": [
      "Searching for \"It's a Good Life\" by Tom Gaebel...\n",
      "Done.\n",
      "Lyrics for 'It's a Good Life' by Tom Gaebel saved to 'It's a Good Life - Tom Gaebel.docx'.\n"
     ]
    },
    {
     "data": {
      "text/html": [
       "<a href='It&#x27;s a Good Life - Tom Gaebel.docx' target='_blank'>It's a Good Life - Tom Gaebel.docx</a><br>"
      ],
      "text/plain": [
       "C:\\Users\\JZL\\Jupyter Projects\\It's a Good Life - Tom Gaebel.docx"
      ]
     },
     "metadata": {},
     "output_type": "display_data"
    },
    {
     "name": "stdout",
     "output_type": "stream",
     "text": [
      "Searching for \"Good Life (feat. Ledisi)\" by Eric Benét...\n",
      "Done.\n",
      "Lyrics for 'Good Life (feat. Ledisi)' by Eric Benét saved to 'Good Life (feat. Ledisi) - Eric Benét.docx'.\n"
     ]
    },
    {
     "data": {
      "text/html": [
       "<a href='Good Life (feat. Ledisi) - Eric Benét.docx' target='_blank'>Good Life (feat. Ledisi) - Eric Benét.docx</a><br>"
      ],
      "text/plain": [
       "C:\\Users\\JZL\\Jupyter Projects\\Good Life (feat. Ledisi) - Eric Benét.docx"
      ]
     },
     "metadata": {},
     "output_type": "display_data"
    },
    {
     "name": "stdout",
     "output_type": "stream",
     "text": [
      "Searching for \"The Good Life\" by Pat Benatar...\n",
      "Done.\n",
      "Lyrics for 'The Good Life' by Pat Benatar saved to 'The Good Life - Pat Benatar.docx'.\n"
     ]
    },
    {
     "data": {
      "text/html": [
       "<a href='The Good Life - Pat Benatar.docx' target='_blank'>The Good Life - Pat Benatar.docx</a><br>"
      ],
      "text/plain": [
       "C:\\Users\\JZL\\Jupyter Projects\\The Good Life - Pat Benatar.docx"
      ]
     },
     "metadata": {},
     "output_type": "display_data"
    },
    {
     "name": "stdout",
     "output_type": "stream",
     "text": [
      "Searching for \"Good Life (Remastered)\" by Inner City...\n",
      "Done.\n",
      "Lyrics for 'Good Life (Remastered)' by Inner City saved to 'Good Life (Remastered) - Inner City.docx'.\n"
     ]
    },
    {
     "data": {
      "text/html": [
       "<a href='Good Life (Remastered) - Inner City.docx' target='_blank'>Good Life (Remastered) - Inner City.docx</a><br>"
      ],
      "text/plain": [
       "C:\\Users\\JZL\\Jupyter Projects\\Good Life (Remastered) - Inner City.docx"
      ]
     },
     "metadata": {},
     "output_type": "display_data"
    },
    {
     "name": "stdout",
     "output_type": "stream",
     "text": [
      "Searching for \"The Good Life\" by Trent Willmon...\n",
      "Done.\n",
      "Lyrics for 'The Good Life' by Trent Willmon saved to 'The Good Life - Trent Willmon.docx'.\n"
     ]
    },
    {
     "data": {
      "text/html": [
       "<a href='The Good Life - Trent Willmon.docx' target='_blank'>The Good Life - Trent Willmon.docx</a><br>"
      ],
      "text/plain": [
       "C:\\Users\\JZL\\Jupyter Projects\\The Good Life - Trent Willmon.docx"
      ]
     },
     "metadata": {},
     "output_type": "display_data"
    },
    {
     "name": "stdout",
     "output_type": "stream",
     "text": [
      "Searching for \"Don't Let The Good Life Pass You By\" by Cass Elliot...\n",
      "Done.\n",
      "Lyrics for 'Don't Let The Good Life Pass You By' by Cass Elliot saved to 'Don't Let The Good Life Pass You By - Cass Elliot.docx'.\n"
     ]
    },
    {
     "data": {
      "text/html": [
       "<a href='Don&#x27;t Let The Good Life Pass You By - Cass Elliot.docx' target='_blank'>Don't Let The Good Life Pass You By - Cass Elliot.docx</a><br>"
      ],
      "text/plain": [
       "C:\\Users\\JZL\\Jupyter Projects\\Don't Let The Good Life Pass You By - Cass Elliot.docx"
      ]
     },
     "metadata": {},
     "output_type": "display_data"
    },
    {
     "name": "stdout",
     "output_type": "stream",
     "text": [
      "Searching for \"The Good Life (Remastered 2021)\" by Matt Monro...\n",
      "Done.\n",
      "Lyrics for 'The Good Life (Remastered 2021)' by Matt Monro saved to 'The Good Life (Remastered 2021) - Matt Monro.docx'.\n"
     ]
    },
    {
     "data": {
      "text/html": [
       "<a href='The Good Life (Remastered 2021) - Matt Monro.docx' target='_blank'>The Good Life (Remastered 2021) - Matt Monro.docx</a><br>"
      ],
      "text/plain": [
       "C:\\Users\\JZL\\Jupyter Projects\\The Good Life (Remastered 2021) - Matt Monro.docx"
      ]
     },
     "metadata": {},
     "output_type": "display_data"
    },
    {
     "name": "stdout",
     "output_type": "stream",
     "text": [
      "Searching for \"The Good Life\" by The Drifters...\n",
      "Done.\n",
      "Lyrics for 'The Good Life' by The Drifters saved to 'The Good Life - The Drifters.docx'.\n"
     ]
    },
    {
     "data": {
      "text/html": [
       "<a href='The Good Life - The Drifters.docx' target='_blank'>The Good Life - The Drifters.docx</a><br>"
      ],
      "text/plain": [
       "C:\\Users\\JZL\\Jupyter Projects\\The Good Life - The Drifters.docx"
      ]
     },
     "metadata": {},
     "output_type": "display_data"
    }
   ],
   "source": [
    "import lyricsgenius\n",
    "import pandas as pd\n",
    "from docx import Document\n",
    "from IPython.display import FileLink\n",
    "import re  # Import regular expressions module\n",
    "\n",
    "# Initialize the Genius API with a higher timeout\n",
    "genius = lyricsgenius.Genius(\"5YU9tjJGofSBe-u03sjBgknFsv3DwWc2Xd1OZtlzSqraXnUgiDPIcYVB9oDOPAKU\", timeout=30)\n",
    "\n",
    "# Load the CSV file\n",
    "songs_df = pd.read_csv('Good_Life_Music_details.csv')  \n",
    "\n",
    "def sanitize_filename(filename):\n",
    "    \"\"\"Sanitize the filename by removing or replacing invalid characters.\"\"\"\n",
    "    return re.sub(r'[\\\\/*?:\"<>|]', \"\", filename)\n",
    "\n",
    "# Iterate over each row in the DataFrame\n",
    "for index, row in songs_df.iterrows():\n",
    "    song_name = row[0]\n",
    "    artist_name = row[1]\n",
    "    \n",
    "    # Search for the song\n",
    "    try:\n",
    "        song = genius.search_song(song_name, artist=artist_name)\n",
    "        \n",
    "        # Check if the song was found\n",
    "        if song:\n",
    "            # Create a new Document\n",
    "            doc = Document()\n",
    "            \n",
    "            # Add the lyrics to the Document\n",
    "            doc.add_heading(f'Lyrics of \"{song_name}\" by {artist_name}', level=1)\n",
    "            doc.add_paragraph(song.lyrics)\n",
    "            \n",
    "            # Sanitize the filename\n",
    "            sanitized_song_name = sanitize_filename(song_name)\n",
    "            sanitized_artist_name = sanitize_filename(artist_name)\n",
    "            file_name = f'{sanitized_song_name} - {sanitized_artist_name}.docx'\n",
    "            \n",
    "            # Save the Document\n",
    "            doc.save(file_name)\n",
    "            print(f\"Lyrics for '{song_name}' by {artist_name} saved to '{file_name}'.\")\n",
    "            \n",
    "            # Create a download link for each file\n",
    "            display(FileLink(file_name))\n",
    "        else:\n",
    "            print(f\"Song '{song_name}' by {artist_name} not found.\")\n",
    "    \n",
    "    except Exception as e:\n",
    "        print(f\"An error occurred: {e}\")\n"
   ]
  },
  {
   "cell_type": "code",
   "execution_count": null,
   "id": "6e360c31",
   "metadata": {},
   "outputs": [],
   "source": []
  }
 ],
 "metadata": {
  "kernelspec": {
   "display_name": "Python 3 (ipykernel)",
   "language": "python",
   "name": "python3"
  },
  "language_info": {
   "codemirror_mode": {
    "name": "ipython",
    "version": 3
   },
   "file_extension": ".py",
   "mimetype": "text/x-python",
   "name": "python",
   "nbconvert_exporter": "python",
   "pygments_lexer": "ipython3",
   "version": "3.11.7"
  },
  "varInspector": {
   "cols": {
    "lenName": 16,
    "lenType": 16,
    "lenVar": 40
   },
   "kernels_config": {
    "python": {
     "delete_cmd_postfix": "",
     "delete_cmd_prefix": "del ",
     "library": "var_list.py",
     "varRefreshCmd": "print(var_dic_list())"
    },
    "r": {
     "delete_cmd_postfix": ") ",
     "delete_cmd_prefix": "rm(",
     "library": "var_list.r",
     "varRefreshCmd": "cat(var_dic_list()) "
    }
   },
   "types_to_exclude": [
    "module",
    "function",
    "builtin_function_or_method",
    "instance",
    "_Feature"
   ],
   "window_display": false
  }
 },
 "nbformat": 4,
 "nbformat_minor": 5
}
